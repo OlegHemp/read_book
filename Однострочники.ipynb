{
  "nbformat": 4,
  "nbformat_minor": 0,
  "metadata": {
    "colab": {
      "provenance": [],
      "collapsed_sections": [],
      "authorship_tag": "ABX9TyOhSLXvnV7Aoed7OfxLcL7B",
      "include_colab_link": true
    },
    "kernelspec": {
      "name": "python3",
      "display_name": "Python 3"
    },
    "language_info": {
      "name": "python"
    }
  },
  "cells": [
    {
      "cell_type": "markdown",
      "metadata": {
        "id": "view-in-github",
        "colab_type": "text"
      },
      "source": [
        "<a href=\"https://colab.research.google.com/github/OlegHemp/read_book/blob/main/%D0%9E%D0%B4%D0%BD%D0%BE%D1%81%D1%82%D1%80%D0%BE%D1%87%D0%BD%D0%B8%D0%BA%D0%B8.ipynb\" target=\"_parent\"><img src=\"https://colab.research.google.com/assets/colab-badge.svg\" alt=\"Open In Colab\"/></a>"
      ]
    },
    {
      "cell_type": "markdown",
      "source": [
        "# Однострочники PYTHON #\n",
        "## Кристиан Майер ##\n",
        "### Небольшой конспект, заметки и т.д. ###\n",
        "#### Пример ####\n",
        "**Выводим 10 квадратов первых чисел**.  \n",
        "Выводимые результаты — такие же, но этот однострочник использует более свойственную Python идею спискового включения. Подобный код легче читать, и места он занимает меньше."
      ],
      "metadata": {
        "id": "ySmrZi3qMhKS"
      }
    },
    {
      "cell_type": "code",
      "source": [
        "# До\n",
        "squares = []\n",
        "for i in range(10):\n",
        "  squares.append(i**2)\n",
        "print(\"Первый вариант:\", squares)\n",
        "\n",
        "# После\n",
        "print(\"Второй вариант\", [i**2 for i in range(10)])"
      ],
      "metadata": {
        "colab": {
          "base_uri": "https://localhost:8080/"
        },
        "id": "5Wkzy_-0NBwq",
        "outputId": "088383c4-6d28-4c75-eaaf-c5e41b3642e6"
      },
      "execution_count": null,
      "outputs": [
        {
          "output_type": "stream",
          "name": "stdout",
          "text": [
            "Первый вариант: [0, 1, 4, 9, 16, 25, 36, 49, 64, 81]\n",
            "Второй вариант [0, 1, 4, 9, 16, 25, 36, 49, 64, 81]\n"
          ]
        }
      ]
    },
    {
      "cell_type": "markdown",
      "source": [
        "### Множество ###\n",
        "Структура данных *множество* (set) — простейший тип коллекций в Python и многих других языках программирования. Множество — неупорядоченная коллекция уникальных элементов. \n",
        "#### Коллекция #### \n",
        "*Множество* — коллекция элементов подобно спискам и кортежам. Коллекция состоит либо из элементов простых типов данных (целочисленных значений, значений с плавающей точкой, строковых значений), либо из более сложных элементов (объектов, кортежей). Однако все типы данных в множестве должны быть хешируемыми, то есть обладать соответствующим хеш-значением.  \n",
        "Множество строковых значений можно создать, поскольку строковые значения — хешируемые. А создать множество списков нельзя, поскольку списки нехешируемые. Дело в том, что хеш-значение зависит от содержимого элемента коллекции, а списки — изменяемые"
      ],
      "metadata": {
        "id": "ZCggNGxOpswK"
      }
    },
    {
      "cell_type": "code",
      "source": [
        "hero = \"Harry\"\n",
        "guide = \"Dumbledore\"\n",
        "enemy = \"Lord V.\"\n",
        "print(\"Хеш hero:\", hash(hero))\n",
        "print(\"Хеш guide:\", hash(guide))\n",
        "print(\"Хеш enemy:\", hash(enemy))\n",
        "\n",
        "## Можно ли создать множество строковых значений?\n",
        "characters = {hero, guide, enemy}\n",
        "print(\"Созданное множество characters:\", characters)\n",
        "\n",
        "## Можно ли создать множество списков?\n",
        "team_1 = [hero, guide]\n",
        "team_2 = [enemy]\n",
        "teams = {team_1, team_2}"
      ],
      "metadata": {
        "colab": {
          "base_uri": "https://localhost:8080/",
          "height": 276
        },
        "id": "N6UnmmNuoptv",
        "outputId": "c17b00eb-695f-42c7-d490-7c8d559f6af5"
      },
      "execution_count": null,
      "outputs": [
        {
          "output_type": "stream",
          "name": "stdout",
          "text": [
            "Хеш hero: -8883093864855402904\n",
            "Хеш guide: -4454008685299952040\n",
            "Хеш enemy: -9067544695422429475\n",
            "Созданное множество characters: {'Harry', 'Dumbledore', 'Lord V.'}\n"
          ]
        },
        {
          "output_type": "error",
          "ename": "TypeError",
          "evalue": "ignored",
          "traceback": [
            "\u001b[0;31m---------------------------------------------------------------------------\u001b[0m",
            "\u001b[0;31mTypeError\u001b[0m                                 Traceback (most recent call last)",
            "\u001b[0;32m<ipython-input-6-5418ff04570d>\u001b[0m in \u001b[0;36m<module>\u001b[0;34m\u001b[0m\n\u001b[1;32m     13\u001b[0m \u001b[0mteam_1\u001b[0m \u001b[0;34m=\u001b[0m \u001b[0;34m[\u001b[0m\u001b[0mhero\u001b[0m\u001b[0;34m,\u001b[0m \u001b[0mguide\u001b[0m\u001b[0;34m]\u001b[0m\u001b[0;34m\u001b[0m\u001b[0;34m\u001b[0m\u001b[0m\n\u001b[1;32m     14\u001b[0m \u001b[0mteam_2\u001b[0m \u001b[0;34m=\u001b[0m \u001b[0;34m[\u001b[0m\u001b[0menemy\u001b[0m\u001b[0;34m]\u001b[0m\u001b[0;34m\u001b[0m\u001b[0;34m\u001b[0m\u001b[0m\n\u001b[0;32m---> 15\u001b[0;31m \u001b[0mteams\u001b[0m \u001b[0;34m=\u001b[0m \u001b[0;34m{\u001b[0m\u001b[0mteam_1\u001b[0m\u001b[0;34m,\u001b[0m \u001b[0mteam_2\u001b[0m\u001b[0;34m}\u001b[0m\u001b[0;34m\u001b[0m\u001b[0;34m\u001b[0m\u001b[0m\n\u001b[0m",
            "\u001b[0;31mTypeError\u001b[0m: unhashable type: 'list'"
          ]
        }
      ]
    },
    {
      "cell_type": "markdown",
      "source": [
        "#### Неупорядоченность ####\n",
        "В отличие от списков, у элементов множества нет четко заданного порядка. Вне зависимости от очередности помещения данных в множество, никогда нельзя быть уверенным, в каком порядке они будут храниться в множестве."
      ],
      "metadata": {
        "id": "Lu6aVq2AurdN"
      }
    },
    {
      "cell_type": "code",
      "source": [
        "characters = {hero, guide, enemy}\n",
        "print(characters)"
      ],
      "metadata": {
        "colab": {
          "base_uri": "https://localhost:8080/"
        },
        "id": "OE7-tq_fu8oM",
        "outputId": "4c9c2769-0cfb-41ad-d348-c8c932fa46aa"
      },
      "execution_count": null,
      "outputs": [
        {
          "output_type": "stream",
          "name": "stdout",
          "text": [
            "{'Harry', 'Dumbledore', 'Lord V.'}\n"
          ]
        }
      ]
    },
    {
      "cell_type": "markdown",
      "source": [
        "#### Уникальность ####\n",
        "Все элементы множества должны быть уникальными.  \n",
        "Неважно, сколько раз вставляется одно значение в одно и то же множество, все равно в нем будет сохранен только один экземпляр этого значения."
      ],
      "metadata": {
        "id": "5xeK9EjvvysE"
      }
    },
    {
      "cell_type": "code",
      "source": [
        "clone_army = {hero, hero, hero, hero, hero, enemy}\n",
        "print(clone_army)"
      ],
      "metadata": {
        "colab": {
          "base_uri": "https://localhost:8080/"
        },
        "id": "_5snMPCWwAxD",
        "outputId": "abbdc591-6994-4d79-d3b6-61a0db730a4e"
      },
      "execution_count": null,
      "outputs": [
        {
          "output_type": "stream",
          "name": "stdout",
          "text": [
            "{'Harry', 'Lord V.'}\n"
          ]
        }
      ]
    },
    {
      "cell_type": "markdown",
      "source": [
        "#### Списковые включения и включения множеств ####  \n",
        "*Списковое включение* — популярная возможность Python, с помощью которой можно быстро создавать и модифицировать списки. Оно описывается простой формулой `[выражение + контекст]`:  \n",
        "+ выражение указывает Python, что делать с каждым из элементов списка;\n",
        "+ контекст указывает Python, какие элементы списка брать. Контекст состоит из произвольного количества операторов `for` и `if`."
      ],
      "metadata": {
        "id": "9wa2lJpiyoDj"
      }
    },
    {
      "cell_type": "code",
      "source": [
        "# (имя, $-доход)\n",
        "customers = [(\"John\", 240000),\n",
        "              (\"Alice\", 120000),\n",
        "              (\"Ann\", 1100000),\n",
        "              (\"Zach\", 44000)]\n",
        "# Ценные клиенты, зарабатывающие более $1 млн\n",
        "whales = [x for x,y in customers if y>1000000]\n",
        "print(whales)"
      ],
      "metadata": {
        "colab": {
          "base_uri": "https://localhost:8080/"
        },
        "id": "V1kHxnUAzInf",
        "outputId": "4b57a6cd-bcd6-4085-a308-be0579f1c4e9"
      },
      "execution_count": null,
      "outputs": [
        {
          "output_type": "stream",
          "name": "stdout",
          "text": [
            "['Ann']\n"
          ]
        }
      ]
    },
    {
      "cell_type": "markdown",
      "source": [
        "#### Поиск самых высокооплачиваемых работников с помощью спискового включения ####  \n",
        "Представьте, что вы работаете в отделе кадров большой компании и вам нужно найти всех сотрудников, зарабатывающих по крайней мере 100 000 долларов в год. Выходные результаты должны представлять собой список кортежей, каждый из которых состоит из двух значений: имени сотрудника и его годовой зарплаты.  \n",
        "В Python существует замечательный способ создания новых списков: *списковое включение*. Оно описывается простой формулой:\n",
        "`[выражение + контекст]`  \n",
        "Внешние квадратные скобки указывают, что результат представляет собой новый список. Контекст указывает, какие элементы списка необходимо взять. Выражение описывает способ модификации элементов списка перед добавлением результата в список.  \n",
        "**Выражение:** создает простой кортеж (ключ, значение) для переменных контекста `k` и `v`.  \n",
        "**Контекст:** метод ассоциативного массива `dict.items()` обеспечивает проход переменной контекста `k` в цикле по всем ключам ассоциативного массива, а переменной контекста `v` — в цикле по соответствующим переменной контекста `k` значениям, но только если значение переменной контекста `v` равно или больше 100 000, в соответствии с условием `if`."
      ],
      "metadata": {
        "id": "tLb5NDXHYSem"
      }
    },
    {
      "cell_type": "code",
      "source": [
        "## Данные\n",
        "employees = {'Alice' : 100000,\n",
        "            'Bob' : 99817,\n",
        "            'Carol' : 122908,\n",
        "            'Frank' : 88123,\n",
        "            'Eve' : 93121}\n",
        "## Однострочник\n",
        "top_earners = [(k, v) for k, v in employees.items() if v >= 100000]\n",
        "print(top_earners)\n",
        "\n",
        "## ещё вариант\n",
        "a = [i for i in employees.items() if i[1]>= 100000]\n",
        "print(a)"
      ],
      "metadata": {
        "colab": {
          "base_uri": "https://localhost:8080/"
        },
        "id": "tajOnXfJYLc6",
        "outputId": "facb0088-bf74-4c88-c442-1e4ebfc8b506"
      },
      "execution_count": null,
      "outputs": [
        {
          "output_type": "stream",
          "name": "stdout",
          "text": [
            "[('Alice', 100000), ('Carol', 122908)]\n",
            "[('Alice', 100000), ('Carol', 122908)]\n"
          ]
        }
      ]
    },
    {
      "cell_type": "markdown",
      "source": [
        "####  Поиск информативных слов с помощью спискового включения ####  \n",
        "Задача: создать на основе многострочного строкового значения список списков, каждый из которых состоит из всех слов одной из строк, причем слова эти длиной три символа и более."
      ],
      "metadata": {
        "id": "tYHsy5undYEq"
      }
    },
    {
      "cell_type": "code",
      "source": [
        "## Данные\n",
        "text = '''\n",
        "Call me Ishmael. Some years ago - never mind how long precisely - having\n",
        "little or no money in my purse, and nothing particular to interest me\n",
        "on shore, I thought I would sail about a little and see the watery part\n",
        "of the world. It is a way I have of driving off the spleen, and regulating\n",
        "the circulation. - Moby Dick'''\n",
        "\n",
        "## Однострочник\n",
        "w = [[x for x in line.split() if len(x)>3] for line in text.split('\\n')]\n",
        "## Результат\n",
        "print(w)\n",
        "\n",
        "# мой вариант. Искал в предложении слова больше или равных трём по длинне.\n",
        "seq = [[j for j in i.split() if len(j)>2] for i in text.replace(\"\\n\",\" \").split('.')]\n",
        "print(seq)"
      ],
      "metadata": {
        "colab": {
          "base_uri": "https://localhost:8080/"
        },
        "id": "ID7MXzspdz_j",
        "outputId": "23f5363a-ffbf-4f5f-b5e2-33deb48ce4e2"
      },
      "execution_count": null,
      "outputs": [
        {
          "output_type": "stream",
          "name": "stdout",
          "text": [
            "[[], ['Call', 'Ishmael.', 'Some', 'years', 'never', 'mind', 'long', 'precisely', 'having'], ['little', 'money', 'purse,', 'nothing', 'particular', 'interest'], ['shore,', 'thought', 'would', 'sail', 'about', 'little', 'watery', 'part'], ['world.', 'have', 'driving', 'spleen,', 'regulating'], ['circulation.', 'Moby', 'Dick']]\n",
            "[['Call', 'Ishmael'], ['Some', 'years', 'ago', 'never', 'mind', 'how', 'long', 'precisely', 'having', 'little', 'money', 'purse,', 'and', 'nothing', 'particular', 'interest', 'shore,', 'thought', 'would', 'sail', 'about', 'little', 'and', 'see', 'the', 'watery', 'part', 'the', 'world'], ['way', 'have', 'driving', 'off', 'the', 'spleen,', 'and', 'regulating', 'the', 'circulation'], ['Moby', 'Dick']]\n"
          ]
        }
      ]
    },
    {
      "cell_type": "markdown",
      "source": [
        "#### Используем map и lambda  ####  \n",
        "Получая на входе список строковых значений, наш следующий однострочник (листинг 2.4) создает новый список кортежей, каждый из которых состоит из булева значения и исходной строки. Булево значение указывает, встречается ли в исходном строковом значении строка символов 'anonymous'! Мы назвали полученный в результате список mark, поскольку булевы значения отмечают (mark) строковые элементы в списке, содержащие строку символов 'anonymous'.  \n",
        "\n",
        "##### Принцип работы #####  \n",
        "Функция map() добавляет к каждому строковому элементу исходного списка txt булево значение, равное True, если этот строковый элемент содержит слово *anonymous*. Первый аргумент представляет собой анонимную лямбда-функцию, а второй — список строковых значений, которые мы хотим проверить на вхождение желаемой подстроки.  \n",
        "\n",
        "Для поиска подстроки `'anonymous'` используется возвращаемое выражение лямбда-функции `(True, s) if 'anonymous' in s else (False, s)`. Значение `s` представляет собой входной аргумент лямбда-функции, в этом примере — строковое значение. Если в данной строке встречается последовательность символов `'anonymous'`, то выражение возвращает кортеж `(True, s)`. В противном случае возвращается кортеж `(False, s)`."
      ],
      "metadata": {
        "id": "W0Tpttg29HAY"
      }
    },
    {
      "cell_type": "code",
      "source": [
        "## Данные\n",
        "txt = ['lambda functions are anonymous functions.',\n",
        "'anonymous functions dont have a name.',\n",
        "'functions are objects in Python.']\n",
        "## Однострочник\n",
        "mark = map(lambda s: (True, s) if 'anonymous' in s else (False, s), txt)\n",
        "## Результаты\n",
        "print(list(mark))\n",
        "\n",
        "# ещё вариант co списочным включением\n",
        "mark1 = [(True, i) if 'anonymous' in i else (False, i) for i in txt]\n",
        "print(mark1)"
      ],
      "metadata": {
        "colab": {
          "base_uri": "https://localhost:8080/"
        },
        "id": "HU5a3sps9pqS",
        "outputId": "46484791-9d46-47dc-8104-c10a825893f7"
      },
      "execution_count": 6,
      "outputs": [
        {
          "output_type": "stream",
          "name": "stdout",
          "text": [
            "[(True, 'lambda functions are anonymous functions.'), (True, 'anonymous functions dont have a name.'), (False, 'functions are objects in Python.')]\n",
            "[(True, 'lambda functions are anonymous functions.'), (True, 'anonymous functions dont have a name.'), (False, 'functions are objects in Python.')]\n"
          ]
        }
      ]
    },
    {
      "cell_type": "markdown",
      "source": [
        "#### Срезы ####\n",
        "Наша цель — найти конкретный текст внутри многострочного строкового значения. Затем необходимо вернуть его непосредственное окружение в виде 18 символов, окружающих найденное вхождение. Извлечение окружения вместе с искомым текстом позволяет увидеть текстовый контекст найденной строки — подобно тому, как Google выводит фрагменты текста, окружающие искомое ключевое слово. Мы ищем строку символов 'SQL' в письме Amazon к акционерам — вместе с непосредственным ее окружением в виде 18 окружающих строку 'SQL' символов.  \n",
        "Мы описали лямбда-функцию с двумя аргументами: строковым значением x и строкой запроса q, которую мы будем искать в тексте. Эту лямбда-функцию мы присваиваем переменной с именем find. Функция find(x, q) ищет строку запроса q в строке текста x.\n",
        "Если поисковый запрос q не встречается в строковом значении x, мы возвращаем результат –1. В противном случае вырезаем из строки текста первое вхождение поискового запроса плюс 18 символов слева и 18 символов справа в качестве окружения запроса."
      ],
      "metadata": {
        "id": "fIQSXavhEODg"
      }
    },
    {
      "cell_type": "code",
      "source": [
        "## Данные\n",
        "letters_amazon = '''\n",
        "We spent several years building our own database engine,\n",
        "Amazon Aurora, a fully-managed MySQL and PostgreSQL-compatible\n",
        "service with the same or better durability and availability as\n",
        "the commercial engines, but at one-tenth of the cost. We were\n",
        "not surprised when this worked.\n",
        "'''\n",
        "## Однострочник\n",
        "find = lambda x, q: x[x.find(q)-18:x.find(q)+18] if q in x else -1\n",
        "## Результат\n",
        "print(find(letters_amazon, 'SQL'))\n",
        "\n",
        "# Сделал не глядя решение\n",
        "s = [elem[elem.find(\"SQL\") - 18: elem.find(\"SQL\") + 18] for elem in letters_amazon.split(\"\\n\") if \"SQL\" in elem]\n",
        "print(*s)"
      ],
      "metadata": {
        "colab": {
          "base_uri": "https://localhost:8080/"
        },
        "id": "k4kuECWBEYvo",
        "outputId": "dc7b92c7-73fc-4d60-f4ca-f9d5ed141a67"
      },
      "execution_count": 18,
      "outputs": [
        {
          "output_type": "stream",
          "name": "stdout",
          "text": [
            "a fully-managed MySQL and PostgreSQL\n",
            "a fully-managed MySQL and PostgreSQL\n"
          ]
        }
      ]
    },
    {
      "cell_type": "markdown",
      "source": [
        "#### Сочетание спискового включения и срезов ####  \n",
        "В этом разделе мы воспользуемся сочетанием спискового включения и срезов для выборки из двумерного набора данных. Наша цель — создать меньшую, но вполне репрезентативную выборку данных из неприемлемо большого набора данных.  \n",
        "Представьте, что работаете финансовым аналитиком в крупном банке и обучаете новую модель машинного обучения, предназначенную для прогнозов курсов акций. Однако набор данных огромен, и обучение модели занимает на вашем компьютере буквально вечность. Для ускорения мы сократим набор данных вдвое, исключив из него каждую вторую точку данных курсов акций. Вряд ли эта модификация существенно снизит безошибочность модели.  \n",
        "\n",
        "Наша цель — создать на основе имеющихся данных новую обучающую выборку: список списков, каждый из которых состоит из шести чисел с плавающей точкой. Для этого выберем из исходного набора данных каждое второе значение с плавающей точкой.  \n",
        "\n",
        "В нашем решении используется двухэтапный подход. Во-первых, мы воспользуемся списковым включением для прохода в цикле по всем строкам исходного списка, `price`. Во-вторых, создадим новый список значений с плавающей точкой путем среза каждой из строк; для этого мы добавим `line[начало:конец:шаг]` с параметрами начало и конец по умолчанию и шаг = 2."
      ],
      "metadata": {
        "id": "ae6fB8vOXuM4"
      }
    },
    {
      "cell_type": "code",
      "source": [
        "## Данные (ежедневные котировки акций ($))\n",
        "price = [ [9.9, 9.8, 9.8, 9.4, 9.5, 9.7],\n",
        "          [9.5, 9.4, 9.4, 9.3, 9.2, 9.1],\n",
        "          [8.4, 7.9, 7.9, 8.1, 8.0, 8.0],\n",
        "          [7.1, 5.9, 4.8, 4.8, 4.7, 3.9]\n",
        "         ]\n",
        "\n",
        "## Однострочник\n",
        "sample = [line[::2] for line in price]\n",
        "## Результат\n",
        "print(sample)\n",
        "\n",
        "\n",
        "## мой вариант, написан неглядя и страшно :))\n",
        "seq = [[i for i in elem[::2]] for elem in price]\n",
        "print(seq)"
      ],
      "metadata": {
        "colab": {
          "base_uri": "https://localhost:8080/"
        },
        "id": "m9u_HwSAYnda",
        "outputId": "1075f27f-7914-4e07-f5d1-23df495ea632"
      },
      "execution_count": 4,
      "outputs": [
        {
          "output_type": "stream",
          "name": "stdout",
          "text": [
            "[[9.9, 9.8, 9.5], [9.5, 9.4, 9.2], [8.4, 7.9, 8.0], [7.1, 4.8, 4.7]]\n",
            "[[9.9, 9.8, 9.5], [9.5, 9.4, 9.2], [8.4, 7.9, 8.0], [7.1, 4.8, 4.7]]\n"
          ]
        }
      ]
    },
    {
      "cell_type": "markdown",
      "source": [
        "#### Исправление испорченных списков с помощью присваивания срезам ####\n",
        "В этом разделе вы познакомитесь с замечательной возможностью Python: присваиванием срезам. В процессе *присваивания срезам с левой стороны* используется нотация среза для модификации подпоследовательности исходной последовательности. \n",
        "\n",
        "Представьте, что работаете в маленьком интернет-стартапе, отслеживающем, какие браузеры встречаются у его пользователей (Google Chrome, Firefox, Safari). Данные хранятся в БД. Для их анализа вы загружаете собранные данные о браузерах в большой список строковых значений, но из-за ошибки в алгоритме отслеживания каждая вторая строка ошибочна и требует замены на правильную.  \n",
        "\n",
        "Пусть ваш веб-сервер всегда перенаправляет первый веб-запрос пользователя на другой URL (распространенная практика в веб-разработке, известная под кодом HTML 301: перемещено навсегда). Из этого мы делаем вывод, что первое значение для браузера будет равно второму в большинстве случаев, поскольку при ожидании перенаправления браузер пользователя не меняется. Это означает, что можно легко восстановить исходные данные. Фактически нам нужно дублировать каждое второе строковое значение в списке, то есть превратить список `['Firefox', 'corrupted', 'Chrome', 'corrupted'] в список ['Firefox', 'Firefox', 'Chrome', 'Chrome']`.  \n",
        "\n",
        "К счастью, вы только что узнали о замечательной возможности Python: присваивании срезам. Оно позволяет выбирать и заменять последовательности элементов, расположенных между индексами `i` и `j`, с помощью нотации срезов вида `lst[i:j] = [0 0 ...0]`. Благодаря тому что срез `lst[i:j]` стоит с левой стороны операции присваивания (а не с правой, как мы видели раньше), эта возможность и называется *присваиванием* срезам."
      ],
      "metadata": {
        "id": "O_HHBpbjc7A7"
      }
    },
    {
      "cell_type": "code",
      "source": [
        "## Данные\n",
        "visitors = ['Firefox', 'corrupted', 'Chrome', 'corrupted',\n",
        "            'Safari', 'corrupted', 'Safari', 'corrupted',\n",
        "            'Chrome', 'corrupted', 'Firefox', 'corrupted']\n",
        "## Однострочник\n",
        "visitors[1::2] = visitors[::2]\n",
        "## Результат\n",
        "print(visitors)\n"
      ],
      "metadata": {
        "colab": {
          "base_uri": "https://localhost:8080/"
        },
        "id": "b-Tz0Ik-dTDi",
        "outputId": "4ec88ae8-afd9-470b-9d13-d7b374288d10"
      },
      "execution_count": 5,
      "outputs": [
        {
          "output_type": "stream",
          "name": "stdout",
          "text": [
            "['Firefox', 'Firefox', 'Chrome', 'Chrome', 'Safari', 'Safari', 'Safari', 'Safari', 'Chrome', 'Chrome', 'Firefox', 'Firefox']\n"
          ]
        }
      ]
    },
    {
      "cell_type": "markdown",
      "source": [],
      "metadata": {
        "id": "BMcqfDfwhenf"
      }
    },
    {
      "cell_type": "markdown",
      "source": [
        "#### Конкатенация списков ####\n",
        "На сей раз мы работаем над маленьким программным проектом для больницы. Наша задача — мониторинг и визуализация статистики состояния здоровья пациентов путем отслеживания их сердечных циклов. Благодаря построению графиков данных сердечных циклов мы помогаем докторам и пациентам отслеживать возможные отклонения от этого цикла. Например, при заданном ряде измерений отдельного сердечного цикла, хранящихся в списке `[62, 60, 62, 64, 68, 77, 80, 76, 71, 66, 61, 60, 62]`, необходимо получить визуализацию, подобную изображенной на рис. 2.2.  \n",
        "\n",
        "Проблема состоит в том, что первое и второе значения данных в нашем списке избыточны: `[62, 60, 62, 64, 68, 77, 80, 76, 71, 66, 61, 60, 62]`. Это удобно при построении графика одного сердечного цикла в качестве указания на то, что был визуализирован один полный цикл. Однако необходимо избавиться от этих избыточных данных, чтобы наши ожидаемые сердечные циклы не выглядели так, как на рис. 2.3, при копировании одного и того же сердечного цикла.\n",
        "Ясно, что нужно очистить исходный список, удалив из него избыточные два первых и два последних значения данных, то есть список `[62, 60, 62, 64, 68, 77, 80, 76, 71, 66, 61, 60, 62]` превращается в `[60, 62, 64, 68, 77, 80, 76, 71, 66, 61]`.  \n",
        "\n",
        "Можно воспользоваться срезами в сочетании с новой возможностью Python — конкатенацией списков (list concatenation), создающей новый список путем конкатенации (то есть соединения) существующих списков. Например, операция `[1, 2, 3] + [4, 5]` создает новый список `[1, 2, 3, 4, 5]`, не заменяя при этом существующие. При этом можно выполнить операцию * для многократной конкатенации одного и того же списка: например, операция `[1, 2, 3] * 3` создает новый список `[1, 2, 3, 1, 2, 3, 1, 2, 3]`.\n",
        "Кроме того, можно использовать модуль `matplotlib.pyplot` для построения графика сгенерированных данных о сердечной деятельности."
      ],
      "metadata": {
        "id": "Mz7LlIvdhixE"
      }
    },
    {
      "cell_type": "code",
      "source": [
        "import matplotlib.pyplot as plt\n",
        "## Данные\n",
        "cardiac_cycle = [62, 60, 62, 64, 68, 77, 80, 76, 71, 66, 61, 60, 62]\n",
        "\n",
        "## Однострочник\n",
        "expected_cycles = cardiac_cycle[1:-2] * 10\n",
        "## Результат\n",
        "plt.plot(expected_cycles)\n",
        "plt.show()"
      ],
      "metadata": {
        "colab": {
          "base_uri": "https://localhost:8080/",
          "height": 265
        },
        "id": "IpQJUnvtkYQP",
        "outputId": "a80867bc-523b-4828-a14f-3011ce67fbc8"
      },
      "execution_count": 2,
      "outputs": [
        {
          "output_type": "display_data",
          "data": {
            "text/plain": [
              "<Figure size 432x288 with 1 Axes>"
            ],
            "image/png": "[encoded data removed]"
          },
          "metadata": {
            "needs_background": "light"
          }
        }
      ]
    },
    {
      "cell_type": "markdown",
      "source": [
        "#### Поиск компаний, платящих меньше минимальной зарплаты, с помощью выражений-генераторов ####  \n",
        "Представьте, что работаете в инспекции Министерства труда США и хотите найти компании, которые платят меньше минимальной почасовой ставки, чтобы инициировать расследование. \n",
        "Вот инструмент, который вам стоит взять на вооружение: функция `any()` языка Python, принимающая на входе итерируемый объект, например список, и возвращающая `True`, если вычисление хотя бы одного элемента этого итерируемого объекта дает `True`. Например, выражение `any([True, False, False, False])` равно `True`, а выражение `any([2<1, 3+2>5+5, 3–2<0, 0])` равно `False`.  \n",
        "Интересное расширение Python, обобщающее списковые включения, — *выражения-генераторы*. Они работают совершенно аналогично списковым включениям, только без создания в памяти собственно списка. Числа создаются по ходу дела, без сохранения их явным образом в списке. Например, вместо вычисления квадратов первых 20 натуральных чисел с помощью спискового включения, `sum([x*x for x in range(20)])`, можно воспользоваться выражением-генератором: `sum(x*x for x in range(20))`.  \n",
        "Наши данные представляют собой ассоциативный массив ассоциативных массивов, в которых хранятся почасовые ставки работников компаний. Необходимо выделить из него список компаний, платящих по крайней мере одному сотруднику меньше установленной законом минимальной почасовой ставки (< $9)\n",
        "\n",
        "В этом однострочнике используются два выражения-генератора.\n",
        "Первое выражение, `y<9 for y in companies[x].values()`, генерирует входные данные для функции `any()`. Для каждого сотрудника оно проверяет, не платят ли ему по почасовой ставке ниже минимальной, `y<9`. Результат представляет собой итерируемый объект значений булева типа. Метод `values()` ассоциативного массива возвращает хранящуюся в нем коллекцию значений. Например, выражение `companies['CoolCompany'].values()` возвращает коллекцию почасовых ставок `dict_values([33, 28, 29])`. Если хотя бы одна из них ниже минимальной, то функция `any()` вернет `True`, а название компании будет сохранено в виде строкового значения в итоговом списке `illegal`, как описано ниже. \n",
        "\n",
        "Второе выражение-генератор представляет собой списковое включение `[x for x in companies if any(...)]` и создает список названий компаний, для которых предыдущий вызов функции `any()` возвращает `True`. Это и есть компании, платящие своим сотрудникам меньше минимальной почасовой ставки. Обратите внимание, что выражение `x in companie`s обходит все ключи ассоциативного массива: названия компаний 'CoolCompany', 'CheapCompany' и 'SosoCompany'."
      ],
      "metadata": {
        "id": "q8GaodBdI4x_"
      }
    },
    {
      "cell_type": "code",
      "source": [
        "## Данные\n",
        "companies = {\n",
        "              'CoolCompany' : {'Alice' : 33, 'Bob' : 28, 'Frank' : 29},\n",
        "              'CheapCompany' : {'Ann' : 4, 'Lee' : 9, 'Chrisi' : 7},\n",
        "              'SosoCompany' : {'Esther' : 38, 'Cole' : 8, 'Paris' : 18}\n",
        "}\n",
        "## Однострочник\n",
        "illegal = [x for x in companies if any(y<9 for y in companies[x].values())]\n",
        "## Результат\n",
        "print(illegal)"
      ],
      "metadata": {
        "colab": {
          "base_uri": "https://localhost:8080/"
        },
        "id": "d_qC3I94Kjcs",
        "outputId": "9d6e6bc5-77e8-46ff-a16e-3cd2cc73048b"
      },
      "execution_count": 5,
      "outputs": [
        {
          "output_type": "stream",
          "name": "stdout",
          "text": [
            "['CheapCompany', 'SosoCompany']\n"
          ]
        }
      ]
    }
  ]
}